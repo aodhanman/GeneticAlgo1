{
  "nbformat": 4,
  "nbformat_minor": 0,
  "metadata": {
    "colab": {
      "provenance": []
    },
    "kernelspec": {
      "name": "python3",
      "display_name": "Python 3"
    },
    "language_info": {
      "name": "python"
    }
  },
  "cells": [
    {
      "cell_type": "markdown",
      "source": [
        "# Genetic Algorithm Assignment\n",
        "30% of the overall grade for this module\n",
        "\n",
        "Marks indciated in sections below are based on percentage of marks allocated for this module\n",
        "\n",
        "In this assignment you must choose a problem, and attempt to use the Genetic Alogrithm that we developed in class to solve this problem.\n",
        "\n",
        "\n",
        "\n"
      ],
      "metadata": {
        "id": "UuU23he_msf6"
      }
    },
    {
      "cell_type": "markdown",
      "source": [
        "## The Problem         **(~30%)**\n",
        "\n",
        "*   Description of the problem\n",
        "\n",
        "\n",
        "\n"
      ],
      "metadata": {
        "id": "xOpdeYD9oLWi"
      }
    },
    {
      "cell_type": "markdown",
      "source": [
        "---\n",
        "\n",
        "(Double click then ...)  Type Here...\n",
        "\n",
        "---\n",
        "\n"
      ],
      "metadata": {
        "id": "4uQ4i7aopwP0"
      }
    },
    {
      "cell_type": "markdown",
      "source": [
        "*   Discussion of the suitablity of Genetic Algorithms\n"
      ],
      "metadata": {
        "id": "rWvzNi3uqCKy"
      }
    },
    {
      "cell_type": "markdown",
      "source": [
        "---\n",
        "\n",
        "(Double click then ...)  Type Here...\n",
        "\n",
        "---\n",
        "\n"
      ],
      "metadata": {
        "id": "aMzEaqZAqmYT"
      }
    },
    {
      "cell_type": "markdown",
      "source": [
        "*   Complexity of the problem  (Overall marks allocated based on ..)"
      ],
      "metadata": {
        "id": "1c4zr525qHk0"
      }
    },
    {
      "cell_type": "markdown",
      "source": [
        "# The problem and the cost function   **(~20%)**"
      ],
      "metadata": {
        "id": "0LgfBTtdq11F"
      }
    },
    {
      "cell_type": "code",
      "source": [
        "#  insert code in ths cell"
      ],
      "metadata": {
        "id": "rwIdSMNqrPS5"
      },
      "execution_count": null,
      "outputs": []
    },
    {
      "cell_type": "markdown",
      "source": [
        "# The Individual **(~30%)**\n",
        "\n",
        "\n",
        "*   Chromosone\n",
        "*   Crossover\n",
        "*   Mutation\n",
        "\n"
      ],
      "metadata": {
        "id": "wBQQjO4brWFA"
      }
    },
    {
      "cell_type": "markdown",
      "source": [
        "## Discussion and justification on the approaches taken for the above"
      ],
      "metadata": {
        "id": "-Yr5xlW3rx21"
      }
    },
    {
      "cell_type": "markdown",
      "source": [
        "---\n",
        "\n",
        "(Double click then ...)  Type Here...\n",
        "\n",
        "---\n",
        "\n"
      ],
      "metadata": {
        "id": "-5eIa-LKsREQ"
      }
    },
    {
      "cell_type": "code",
      "execution_count": null,
      "metadata": {
        "id": "Hqtg_3MimjYL"
      },
      "outputs": [],
      "source": [
        "# Code for individual class in here "
      ]
    },
    {
      "cell_type": "markdown",
      "source": [
        "## Running the algorithm  **(~10%)**\n",
        "\n",
        "*   Parameter choices\n",
        "*   Modifications (if any) to run_genetic\n",
        "*   Rationale for the above\n",
        "\n"
      ],
      "metadata": {
        "id": "59WmNNhiscZ9"
      }
    },
    {
      "cell_type": "markdown",
      "source": [
        "---\n",
        "\n",
        "(Double click then ...)  Type Here...\n",
        "\n",
        "---\n",
        "\n"
      ],
      "metadata": {
        "id": "n8BK_jFwub_j"
      }
    },
    {
      "cell_type": "code",
      "source": [
        "#  Parameter class here"
      ],
      "metadata": {
        "id": "qYE-UMBos_nR"
      },
      "execution_count": null,
      "outputs": []
    },
    {
      "cell_type": "code",
      "source": [
        "# Run Genetic method here"
      ],
      "metadata": {
        "id": "uMURavCWtEan"
      },
      "execution_count": null,
      "outputs": []
    },
    {
      "cell_type": "code",
      "source": [
        "#  Running of the algorithm with outputs here"
      ],
      "metadata": {
        "id": "lzt2-_8HtJtr"
      },
      "execution_count": null,
      "outputs": []
    },
    {
      "cell_type": "code",
      "source": [
        "#  If changes to params or reruns of iterations dont overwrite, create more cells and copy code down to show evolution of final solution"
      ],
      "metadata": {
        "id": "KUrAxEdDtTmf"
      },
      "execution_count": null,
      "outputs": []
    },
    {
      "cell_type": "markdown",
      "source": [
        "## Results and conclusions    **(~10%)**"
      ],
      "metadata": {
        "id": "Hupr4W2_tmZA"
      }
    },
    {
      "cell_type": "markdown",
      "source": [
        "---\n",
        "\n",
        "(Double click then ...)  Type Here...\n",
        "\n",
        "---\n",
        "\n"
      ],
      "metadata": {
        "id": "p0Yqo3GeuVtn"
      }
    }
  ]
}